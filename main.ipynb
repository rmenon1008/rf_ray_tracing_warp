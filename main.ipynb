{
 "cells": [
  {
   "cell_type": "code",
   "execution_count": 1,
   "metadata": {},
   "outputs": [],
   "source": [
    "import warp as wp\n",
    "import numpy as np\n",
    "import trimesh as tm\n",
    "import pyvista as pv\n",
    "from pyvista.utilities import xvfb\n",
    "from pyvista import demos\n",
    "from IPython.display import display"
   ]
  },
  {
   "cell_type": "code",
   "execution_count": 2,
   "metadata": {},
   "outputs": [],
   "source": [
    "# Import the 3D model\n",
    "mesh = tm.load_mesh(\"models/apollo_17_landing_site.stl\")\n",
    "\n",
    "# Create a ray emitter\n",
    "tx_pos = np.array([10, 0, 10])\n",
    "tx_power = 1\n",
    "tx_num_rays = 1000\n",
    "\n",
    "# Create a ray receiver\n",
    "rx_pos = np.array([0, 0, 10])\n",
    "rx_radius = 1"
   ]
  },
  {
   "cell_type": "code",
   "execution_count": 3,
   "metadata": {},
   "outputs": [
    {
     "name": "stderr",
     "output_type": "stream",
     "text": [
      "/home/rohanm/.local/lib/python3.8/site-packages/pyvista/jupyter/notebook.py:58: UserWarning: Failed to use notebook backend: \n",
      "\n",
      "No module named 'trame'\n",
      "\n",
      "Falling back to a static output.\n",
      "  warnings.warn(\n",
      "libGL error: No matching fbConfigs or visuals found\n",
      "libGL error: failed to load driver: swrast\n",
      "\u001b[0m\u001b[31m2023-06-29 11:08:00.918 (  12.415s) [        7B182740]vtkOpenGLRenderWindow.c:517    ERR| vtkXOpenGLRenderWindow (0x32ec480): Unable to find a valid OpenGL 3.2 or later implementation. Please update your video card driver to the latest version. If you are using Mesa please make sure you have version 11.2 or later and make sure your driver in Mesa supports OpenGL 3.2 such as llvmpipe or openswr. If you are on windows and using Microsoft remote desktop note that it only supports OpenGL 3.2 with nvidia quadro cards. You can use other remoting software such as nomachine to avoid this issue.\u001b[0m\n",
      "ERROR:root:Unable to find a valid OpenGL 3.2 or later implementation. Please update your video card driver to the latest version. If you are using Mesa please make sure you have version 11.2 or later and make sure your driver in Mesa supports OpenGL 3.2 such as llvmpipe or openswr. If you are on windows and using Microsoft remote desktop note that it only supports OpenGL 3.2 with nvidia quadro cards. You can use other remoting software such as nomachine to avoid this issue.\n"
     ]
    },
    {
     "ename": "",
     "evalue": "",
     "output_type": "error",
     "traceback": [
      "\u001b[1;31mCannot execute code, session has been disposed. Please try restarting the Kernel."
     ]
    },
    {
     "ename": "",
     "evalue": "",
     "output_type": "error",
     "traceback": [
      "\u001b[1;31mThe Kernel crashed while executing code in the the current cell or a previous cell. Please review the code in the cell(s) to identify a possible cause of the failure. Click <a href='https://aka.ms/vscodeJupyterKernelCrash'>here</a> for more info. View Jupyter <a href='command:jupyter.viewOutput'>log</a> for further details."
     ]
    }
   ],
   "source": [
    "# Plot everything\n",
    "p = pv.Plotter()\n",
    "p.add_mesh(mesh, color=\"white\", show_edges=True)\n",
    "p.add_mesh(pv.Sphere(center=tx_pos, radius=0.1), color=\"red\")\n",
    "p.add_mesh(pv.Sphere(center=rx_pos, radius=rx_radius), color=\"blue\")\n",
    "display(p.show())"
   ]
  }
 ],
 "metadata": {
  "kernelspec": {
   "display_name": "Python 3",
   "language": "python",
   "name": "python3"
  },
  "language_info": {
   "codemirror_mode": {
    "name": "ipython",
    "version": 3
   },
   "file_extension": ".py",
   "mimetype": "text/x-python",
   "name": "python",
   "nbconvert_exporter": "python",
   "pygments_lexer": "ipython3",
   "version": "3.8.10"
  },
  "orig_nbformat": 4
 },
 "nbformat": 4,
 "nbformat_minor": 2
}
